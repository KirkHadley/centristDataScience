{
 "cells": [
  {
   "cell_type": "markdown",
   "metadata": {},
   "source": [
    "#TODO: get generals working, primary 14 elections working"
   ]
  },
  {
   "cell_type": "code",
   "execution_count": 177,
   "metadata": {
    "collapsed": true
   },
   "outputs": [],
   "source": [
    "import pandas as pd\n",
    "import json\n",
    "import numpy as np\n",
    "import geopandas as gpd\n",
    "import os\n",
    "from bs4 import BeautifulSoup\n",
    "import requests\n",
    "import json"
   ]
  },
  {
   "cell_type": "code",
   "execution_count": 12,
   "metadata": {
    "collapsed": false
   },
   "outputs": [
    {
     "name": "stdout",
     "output_type": "stream",
     "text": [
      "[Errno 2] No such file or directory: 'results'\n",
      "/home/kirk/centristDataScience/data/results\n"
     ]
    }
   ],
   "source": [
    "cd ../../data/results"
   ]
  },
  {
   "cell_type": "code",
   "execution_count": 178,
   "metadata": {
    "collapsed": false
   },
   "outputs": [
    {
     "name": "stdout",
     "output_type": "stream",
     "text": [
      "\u001b[0m\u001b[01;32mCO_2004.tab\u001b[0m*                  co_2016_general.json\r\n",
      "\u001b[01;32mCO_2006.tab\u001b[0m*                  co_2016_general_turnout.json\r\n",
      "\u001b[01;32mCO_2008.tab\u001b[0m*                  co_2016_primary.json\r\n",
      "\u001b[01;32mCO_2010.tab\u001b[0m*                  co_2016_primary_turnout.json\r\n",
      "co_2012_general.json          colorado_1968_2010.csv\r\n",
      "co_2012_primary.json          colorado_specific_columns.csv\r\n",
      "co_2014_general.json          icpsr_clean.csv\r\n",
      "co_2014_general_turnout.json  primary_data.json\r\n"
     ]
    }
   ],
   "source": [
    "ls"
   ]
  },
  {
   "cell_type": "code",
   "execution_count": 179,
   "metadata": {
    "collapsed": false
   },
   "outputs": [],
   "source": [
    "dv_files = filter(lambda x: x.endswith('tab'), os.listdir('.'))\n",
    "dv_dfs = map(lambda x: pd.read_table(x), dv_files)\n",
    "icpsr = pd.read_csv('colorado_specific_columns.csv')\n",
    "icpsr = icpsr[icpsr.columns[1:]]"
   ]
  },
  {
   "cell_type": "code",
   "execution_count": 180,
   "metadata": {
    "collapsed": false
   },
   "outputs": [
    {
     "name": "stdout",
     "output_type": "stream",
     "text": [
      "Index([u'state', u'year', u'county', u'precinct', u'g2006_GOV_dv', u'g2006_GOV_rv', u'g2006_USH_dv', u'g2006_USH_rv'], dtype='object')\n",
      "Index([u'state', u'year', u'vtd', u'g2008_USP_dv', u'g2008_USP_rv', u'g2008_USS_dv', u'g2008_USS_rv', u'g2008_USH_dv', u'g2008_USH_rv', u'g2008_SBOE_dv', u'g2008_SBOE_rv', u'g2008_STH_rv', u'g2008_STH_dv', u'g2008_STS_rv', u'g2008_STS_dv', u'g2008_REG_dv', u'g2008_REG_rv', u'g2008_RGNT_dv', u'g2008_RGNT_rv'], dtype='object')\n",
      "Index([u'state', u'year', u'vtd', u'g2010_USS_rv', u'g2010_USS_dv', u'g2010_GOV_rv', u'g2010_GOV_dv', u'g2010_SOS_rv', u'g2010_SOS_dv', u'g2010_ATG_rv', u'g2010_ATG_dv', u'g2010_TRE_rv', u'g2010_TRE_dv', u'g2010_USH_rv', u'g2010_USH_dv', u'g2010_SBOE_rv', u'g2010_SBOE_dv', u'g2010_STS_rv', u'g2010_STS_dv', u'g2010_STH_rv', u'g2010_STH_dv', u'g2010_REG_rv', u'g2010_REG_dv'], dtype='object')\n",
      "Index([u'state', u'year', u'county', u'precinct', u'cd', u'g2004_USP_dv', u'g2004_USP_rv', u'g2004_USS_dv', u'g2004_USS_rv', u'g2004_USH_dv', u'g2004_USH_rv'], dtype='object')\n"
     ]
    }
   ],
   "source": [
    "for i in dv_dfs:\n",
    "    print i.columns"
   ]
  },
  {
   "cell_type": "code",
   "execution_count": 181,
   "metadata": {
    "collapsed": false
   },
   "outputs": [],
   "source": [
    "new_cols=['id', 'state', 'year', 'month', 'senate_or_house', 'district_name', 'district_number', 'election_type',\n",
    "         'determines_sitting_leg', 'candidate_id', 'candidate_name', 'detailed_party', 'simple_party', 'incumbent', \n",
    "         'candidate_total', 'winner', 'num_candidates', 'num_dem', 'num_repub', 'num_other', 'total_votes', \n",
    "          'total_dem_votes','total_repub_votes', 'total_other_votes', 'highest_percentage', 'second_highest_percentage',\n",
    "         'percent_MoV', 'candidate_percent', 'candidate_winner_dif']"
   ]
  },
  {
   "cell_type": "code",
   "execution_count": 182,
   "metadata": {
    "collapsed": false
   },
   "outputs": [],
   "source": [
    "icpsr.columns = new_cols"
   ]
  },
  {
   "cell_type": "code",
   "execution_count": 183,
   "metadata": {
    "collapsed": false
   },
   "outputs": [],
   "source": [
    "dt = lambda x: pd.to_datetime(str(x['year']) + '/' + str(x['month']))\n",
    "e = icpsr.apply(dt, 1)\n",
    "icpsr['election_date'] = e"
   ]
  },
  {
   "cell_type": "code",
   "execution_count": 184,
   "metadata": {
    "collapsed": false
   },
   "outputs": [],
   "source": [
    "c = filter(lambda x: x != 'district_name', icpsr.columns)\n",
    "icpsr = icpsr[c]"
   ]
  },
  {
   "cell_type": "code",
   "execution_count": 185,
   "metadata": {
    "collapsed": false
   },
   "outputs": [],
   "source": [
    "icpsr.simple_party.replace([200, 100, 400, 600], ['repub', 'dem', 'indep', 'write-in'], True)"
   ]
  },
  {
   "cell_type": "code",
   "execution_count": 186,
   "metadata": {
    "collapsed": false
   },
   "outputs": [],
   "source": [
    "icpsr.to_csv('icpsr_clean.csv')"
   ]
  },
  {
   "cell_type": "code",
   "execution_count": 151,
   "metadata": {
    "collapsed": true
   },
   "outputs": [],
   "source": [
    "def matchDistrictsCounties(url):\n",
    "    r = requests.get(url)\n",
    "    s = BeautifulSoup(r.content)\n",
    "    districts = map(lambda x: x.text, s.findAll('p', {'class':'pagehead5'}))\n",
    "    dist = map(lambda x: {'district': x[0], 'counties': x[1]}, \n",
    "               zip(districts, map(lambda x: filter(lambda g: g != 'Total',\n",
    "                                                   map(lambda y: y.text, x.findAll('strong')[:-3])),\n",
    "                                  s.findAll('table')[1:-1])))\n",
    "    return dist\n",
    "\n",
    "def getTurnoutDataFrame(url):\n",
    "    r = requests.get(url)\n",
    "    s = BeautifulSoup(r.content)\n",
    "    rows = s.findAll('table')[1].findAll('tr')[1:-1]\n",
    "    d = pd.DataFrame(map(lambda f: {'county':f[0], 'turnout':float(f[-1][:-1])}, \n",
    "                         map(lambda x: map(lambda g: g[0], map(lambda y: list(y.stripped_strings),\n",
    "                                                               x.findAll('td'))),\n",
    "                             rows)))\n",
    "    return d\n",
    "\n",
    "def findDistrictAverageTurnout(dist_dict, turnout_df):\n",
    "    d1 = map(lambda x: dict(x.items() + [('turnout_average', turnout_df[turnout_df['county'].isin(x['counties'])].turnout.mean())]), \n",
    "             dist_dict)\n",
    "    return d1\n",
    "\n",
    "def cleanElection(results_url, turnout_url):\n",
    "    dists = matchDistrictsCounties(results_url)\n",
    "    df = getTurnoutDataFrame(turnout_url)\n",
    "    res = findDistrictAverageTurnout(dists, df)\n",
    "    return res"
   ]
  },
  {
   "cell_type": "code",
   "execution_count": 168,
   "metadata": {
    "collapsed": false
   },
   "outputs": [],
   "source": [
    "primary_12_house = cleanElection('https://www.sos.state.co.us/pubs/elections/Results/Abstract/2012/primary/republican/stateReps.html',\n",
    "                                'https://www.sos.state.co.us/pubs/elections/Results/Abstract/2012/primary/turnout.html')\n",
    "primary_12_senate = cleanElection('https://www.sos.state.co.us/pubs/elections/Results/Abstract/2012/primary/republican/stateSenate.html',\n",
    "                                 'https://www.sos.state.co.us/pubs/elections/Results/Abstract/2012/primary/turnout.html')"
   ]
  },
  {
   "cell_type": "code",
   "execution_count": 176,
   "metadata": {
    "collapsed": false
   },
   "outputs": [],
   "source": [
    "json.dump({'primary_12_house': primary_12_house, 'primary_12_senate':primary_12_senate},open('primary_data.json', 'w'))"
   ]
  },
  {
   "cell_type": "code",
   "execution_count": 169,
   "metadata": {
    "collapsed": false
   },
   "outputs": [
    {
     "data": {
      "text/plain": [
       "[]"
      ]
     },
     "execution_count": 169,
     "metadata": {},
     "output_type": "execute_result"
    }
   ],
   "source": [
    "primary_14_house"
   ]
  },
  {
   "cell_type": "code",
   "execution_count": 170,
   "metadata": {
    "collapsed": false
   },
   "outputs": [
    {
     "data": {
      "text/plain": [
       "[]"
      ]
     },
     "execution_count": 170,
     "metadata": {},
     "output_type": "execute_result"
    }
   ],
   "source": [
    "matchDistrictsCounties('https://www.sos.state.co.us/pubs/elections/Results/Abstract/2014/primary/republican/stateSenate.html')"
   ]
  },
  {
   "cell_type": "code",
   "execution_count": 174,
   "metadata": {
    "collapsed": false
   },
   "outputs": [
    {
     "data": {
      "text/html": [
       "<div style=\"max-height:1000px;max-width:1500px;overflow:auto;\">\n",
       "<table border=\"1\" class=\"dataframe\">\n",
       "  <thead>\n",
       "    <tr style=\"text-align: right;\">\n",
       "      <th></th>\n",
       "      <th>id</th>\n",
       "      <th>state</th>\n",
       "      <th>year</th>\n",
       "      <th>month</th>\n",
       "      <th>senate_or_house</th>\n",
       "      <th>district_number</th>\n",
       "      <th>election_type</th>\n",
       "      <th>determines_sitting_leg</th>\n",
       "      <th>candidate_id</th>\n",
       "      <th>candidate_name</th>\n",
       "      <th>...</th>\n",
       "      <th>total_votes</th>\n",
       "      <th>total_dem_votes</th>\n",
       "      <th>total_repub_votes</th>\n",
       "      <th>total_other_votes</th>\n",
       "      <th>highest_percentage</th>\n",
       "      <th>second_highest_percentage</th>\n",
       "      <th>percent_MoV</th>\n",
       "      <th>candidate_percent</th>\n",
       "      <th>candidate_winner_dif</th>\n",
       "      <th>election_date</th>\n",
       "    </tr>\n",
       "  </thead>\n",
       "  <tbody>\n",
       "    <tr>\n",
       "      <th>3503</th>\n",
       "      <td> 296035</td>\n",
       "      <td> 6</td>\n",
       "      <td> 2010</td>\n",
       "      <td> 11</td>\n",
       "      <td> 9</td>\n",
       "      <td> 62</td>\n",
       "      <td> G</td>\n",
       "      <td> 1</td>\n",
       "      <td> 283670</td>\n",
       "      <td>       VIGIL, EDWARD</td>\n",
       "      <td>...</td>\n",
       "      <td> 21166</td>\n",
       "      <td> 11842</td>\n",
       "      <td>  9324</td>\n",
       "      <td> 0</td>\n",
       "      <td>  55.948219</td>\n",
       "      <td> 44.051781</td>\n",
       "      <td>  11.896439</td>\n",
       "      <td>  55.948219</td>\n",
       "      <td> 0.000000</td>\n",
       "      <td>2010-11-14</td>\n",
       "    </tr>\n",
       "    <tr>\n",
       "      <th>3504</th>\n",
       "      <td> 296036</td>\n",
       "      <td> 6</td>\n",
       "      <td> 2010</td>\n",
       "      <td> 11</td>\n",
       "      <td> 9</td>\n",
       "      <td> 63</td>\n",
       "      <td> G</td>\n",
       "      <td> 1</td>\n",
       "      <td> 296036</td>\n",
       "      <td>         BECKER, JON</td>\n",
       "      <td>...</td>\n",
       "      <td> 19138</td>\n",
       "      <td>     0</td>\n",
       "      <td> 19138</td>\n",
       "      <td> 0</td>\n",
       "      <td> 100.000000</td>\n",
       "      <td>  0.000000</td>\n",
       "      <td> 100.000000</td>\n",
       "      <td> 100.000000</td>\n",
       "      <td> 0.000000</td>\n",
       "      <td>2010-11-14</td>\n",
       "    </tr>\n",
       "    <tr>\n",
       "      <th>3505</th>\n",
       "      <td> 296037</td>\n",
       "      <td> 6</td>\n",
       "      <td> 2010</td>\n",
       "      <td> 11</td>\n",
       "      <td> 9</td>\n",
       "      <td> 64</td>\n",
       "      <td> G</td>\n",
       "      <td> 1</td>\n",
       "      <td> 296037</td>\n",
       "      <td> KELLOGG, LISA GRACE</td>\n",
       "      <td>...</td>\n",
       "      <td> 21686</td>\n",
       "      <td> 11144</td>\n",
       "      <td> 10542</td>\n",
       "      <td> 0</td>\n",
       "      <td>  51.387993</td>\n",
       "      <td> 48.612007</td>\n",
       "      <td>   2.775986</td>\n",
       "      <td>  48.612007</td>\n",
       "      <td> 2.775986</td>\n",
       "      <td>2010-11-14</td>\n",
       "    </tr>\n",
       "    <tr>\n",
       "      <th>3506</th>\n",
       "      <td> 296038</td>\n",
       "      <td> 6</td>\n",
       "      <td> 2010</td>\n",
       "      <td> 11</td>\n",
       "      <td> 9</td>\n",
       "      <td> 64</td>\n",
       "      <td> G</td>\n",
       "      <td> 1</td>\n",
       "      <td>  20130</td>\n",
       "      <td>       MCKINLEY, WES</td>\n",
       "      <td>...</td>\n",
       "      <td> 21686</td>\n",
       "      <td> 11144</td>\n",
       "      <td> 10542</td>\n",
       "      <td> 0</td>\n",
       "      <td>  51.387993</td>\n",
       "      <td> 48.612007</td>\n",
       "      <td>   2.775986</td>\n",
       "      <td>  51.387993</td>\n",
       "      <td> 0.000000</td>\n",
       "      <td>2010-11-14</td>\n",
       "    </tr>\n",
       "    <tr>\n",
       "      <th>3507</th>\n",
       "      <td> 296039</td>\n",
       "      <td> 6</td>\n",
       "      <td> 2010</td>\n",
       "      <td> 11</td>\n",
       "      <td> 9</td>\n",
       "      <td> 65</td>\n",
       "      <td> G</td>\n",
       "      <td> 1</td>\n",
       "      <td> 271478</td>\n",
       "      <td>   SONNENBERG, JERRY</td>\n",
       "      <td>...</td>\n",
       "      <td> 21951</td>\n",
       "      <td>     0</td>\n",
       "      <td> 21951</td>\n",
       "      <td> 0</td>\n",
       "      <td> 100.000000</td>\n",
       "      <td>  0.000000</td>\n",
       "      <td> 100.000000</td>\n",
       "      <td> 100.000000</td>\n",
       "      <td> 0.000000</td>\n",
       "      <td>2010-11-14</td>\n",
       "    </tr>\n",
       "  </tbody>\n",
       "</table>\n",
       "<p>5 rows × 29 columns</p>\n",
       "</div>"
      ],
      "text/plain": [
       "          id  state  year  month  senate_or_house  district_number  \\\n",
       "3503  296035      6  2010     11                9               62   \n",
       "3504  296036      6  2010     11                9               63   \n",
       "3505  296037      6  2010     11                9               64   \n",
       "3506  296038      6  2010     11                9               64   \n",
       "3507  296039      6  2010     11                9               65   \n",
       "\n",
       "     election_type  determines_sitting_leg  candidate_id       candidate_name  \\\n",
       "3503             G                       1        283670        VIGIL, EDWARD   \n",
       "3504             G                       1        296036          BECKER, JON   \n",
       "3505             G                       1        296037  KELLOGG, LISA GRACE   \n",
       "3506             G                       1         20130        MCKINLEY, WES   \n",
       "3507             G                       1        271478    SONNENBERG, JERRY   \n",
       "\n",
       "             ...           total_votes total_dem_votes  total_repub_votes  \\\n",
       "3503         ...                 21166           11842               9324   \n",
       "3504         ...                 19138               0              19138   \n",
       "3505         ...                 21686           11144              10542   \n",
       "3506         ...                 21686           11144              10542   \n",
       "3507         ...                 21951               0              21951   \n",
       "\n",
       "      total_other_votes  highest_percentage  second_highest_percentage  \\\n",
       "3503                  0           55.948219                  44.051781   \n",
       "3504                  0          100.000000                   0.000000   \n",
       "3505                  0           51.387993                  48.612007   \n",
       "3506                  0           51.387993                  48.612007   \n",
       "3507                  0          100.000000                   0.000000   \n",
       "\n",
       "      percent_MoV  candidate_percent  candidate_winner_dif  election_date  \n",
       "3503    11.896439          55.948219              0.000000     2010-11-14  \n",
       "3504   100.000000         100.000000              0.000000     2010-11-14  \n",
       "3505     2.775986          48.612007              2.775986     2010-11-14  \n",
       "3506     2.775986          51.387993              0.000000     2010-11-14  \n",
       "3507   100.000000         100.000000              0.000000     2010-11-14  \n",
       "\n",
       "[5 rows x 29 columns]"
      ]
     },
     "execution_count": 174,
     "metadata": {},
     "output_type": "execute_result"
    }
   ],
   "source": [
    "icpsr.tail()"
   ]
  },
  {
   "cell_type": "code",
   "execution_count": null,
   "metadata": {
    "collapsed": true
   },
   "outputs": [],
   "source": []
  }
 ],
 "metadata": {
  "kernelspec": {
   "display_name": "Python 2",
   "language": "python",
   "name": "python2"
  },
  "language_info": {
   "codemirror_mode": {
    "name": "ipython",
    "version": 2
   },
   "file_extension": ".py",
   "mimetype": "text/x-python",
   "name": "python",
   "nbconvert_exporter": "python",
   "pygments_lexer": "ipython2",
   "version": "2.7.6"
  }
 },
 "nbformat": 4,
 "nbformat_minor": 0
}
