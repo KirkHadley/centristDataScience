{
 "cells": [
  {
   "cell_type": "markdown",
   "metadata": {},
   "source": [
    "#TODO: get generals working, primary 14 elections working"
   ]
  },
  {
   "cell_type": "code",
   "execution_count": 162,
   "metadata": {
    "collapsed": true
   },
   "outputs": [],
   "source": [
    "import pandas as pd\n",
    "import json\n",
    "import numpy as np\n",
    "import geopandas as gpd\n",
    "import os\n",
    "from bs4 import BeautifulSoup\n",
    "import requests\n",
    "import json"
   ]
  },
  {
   "cell_type": "code",
   "execution_count": 12,
   "metadata": {
    "collapsed": false
   },
   "outputs": [
    {
     "name": "stdout",
     "output_type": "stream",
     "text": [
      "[Errno 2] No such file or directory: 'results'\n",
      "/home/kirk/centristDataScience/data/results\n"
     ]
    }
   ],
   "source": [
    "cd ../../data/results"
   ]
  },
  {
   "cell_type": "code",
   "execution_count": 10,
   "metadata": {
    "collapsed": false
   },
   "outputs": [
    {
     "name": "stdout",
     "output_type": "stream",
     "text": [
      "\u001b[0m\u001b[01;32mCO_2004.tab\u001b[0m*  \u001b[01;32mCO_2008.tab\u001b[0m*  colorado_specific_columns.csv\r\n",
      "\u001b[01;32mCO_2006.tab\u001b[0m*  \u001b[01;32mCO_2010.tab\u001b[0m*\r\n"
     ]
    }
   ],
   "source": [
    "ls"
   ]
  },
  {
   "cell_type": "code",
   "execution_count": 69,
   "metadata": {
    "collapsed": false
   },
   "outputs": [],
   "source": [
    "dv_files = filter(lambda x: x.endswith('tab'), os.listdir('.'))\n",
    "dv_dfs = map(lambda x: pd.read_table(x), dv_files)\n",
    "icpsr = pd.read_csv('colorado_specific_columns.csv')\n",
    "icpsr = icpsr[icpsr.columns[1:]]"
   ]
  },
  {
   "cell_type": "code",
   "execution_count": 34,
   "metadata": {
    "collapsed": false
   },
   "outputs": [
    {
     "name": "stdout",
     "output_type": "stream",
     "text": [
      "Index([u'state', u'year', u'county', u'precinct', u'g2006_GOV_dv', u'g2006_GOV_rv', u'g2006_USH_dv', u'g2006_USH_rv'], dtype='object')\n",
      "Index([u'state', u'year', u'vtd', u'g2008_USP_dv', u'g2008_USP_rv', u'g2008_USS_dv', u'g2008_USS_rv', u'g2008_USH_dv', u'g2008_USH_rv', u'g2008_SBOE_dv', u'g2008_SBOE_rv', u'g2008_STH_rv', u'g2008_STH_dv', u'g2008_STS_rv', u'g2008_STS_dv', u'g2008_REG_dv', u'g2008_REG_rv', u'g2008_RGNT_dv', u'g2008_RGNT_rv'], dtype='object')\n",
      "Index([u'state', u'year', u'vtd', u'g2010_USS_rv', u'g2010_USS_dv', u'g2010_GOV_rv', u'g2010_GOV_dv', u'g2010_SOS_rv', u'g2010_SOS_dv', u'g2010_ATG_rv', u'g2010_ATG_dv', u'g2010_TRE_rv', u'g2010_TRE_dv', u'g2010_USH_rv', u'g2010_USH_dv', u'g2010_SBOE_rv', u'g2010_SBOE_dv', u'g2010_STS_rv', u'g2010_STS_dv', u'g2010_STH_rv', u'g2010_STH_dv', u'g2010_REG_rv', u'g2010_REG_dv'], dtype='object')\n",
      "Index([u'state', u'year', u'county', u'precinct', u'cd', u'g2004_USP_dv', u'g2004_USP_rv', u'g2004_USS_dv', u'g2004_USS_rv', u'g2004_USH_dv', u'g2004_USH_rv'], dtype='object')\n"
     ]
    }
   ],
   "source": [
    "for i in dv_dfs:\n",
    "    print i.columns"
   ]
  },
  {
   "cell_type": "code",
   "execution_count": 81,
   "metadata": {
    "collapsed": false
   },
   "outputs": [
    {
     "data": {
      "text/plain": [
       "Index([u'caseid', u'v01', u'v05', u'v06', u'v07', u'v08', u'v09', u'v16', u'v17', u'v18', u'v19', u'v20', u'v21', u'v22', u'v23', u'v24', u'v25', u'v26', u'v27', u'v28', u'v29', u'v30', u'v31', u'v32', u'v33', u'v34', u'v35', u'v36', u'v37'], dtype='object')"
      ]
     },
     "execution_count": 81,
     "metadata": {},
     "output_type": "execute_result"
    }
   ],
   "source": [
    "new_cols=['id', 'state', 'year', 'month', 'senate_or_house', 'district_name', 'district_number', 'election_type',\n",
    "         'determines_sitting_leg', 'candidate_id', 'candidate_name', 'detailed_party', 'simple_party', 'incumbent', \n",
    "         'candidate_total', 'winner', 'num_candidates', 'num_dem', 'num_repub', 'num_other', 'total_votes', \n",
    "          'total_dem_votes','total_repub_votes', 'total_other_votes', 'highest_percentage', 'second_highest_percentage',\n",
    "         'percent_MoV', 'candidate_percent', 'candidate_winner_dif']"
   ]
  },
  {
   "cell_type": "code",
   "execution_count": 82,
   "metadata": {
    "collapsed": false
   },
   "outputs": [],
   "source": [
    "icpsr.columns = new_cols"
   ]
  },
  {
   "cell_type": "code",
   "execution_count": 87,
   "metadata": {
    "collapsed": false
   },
   "outputs": [],
   "source": [
    "dt = lambda x: pd.to_datetime(str(x['year']) + '/' + str(x['month']))\n",
    "e = icpsr.apply(dt, 1)\n",
    "icpsr['election_date'] = e"
   ]
  },
  {
   "cell_type": "code",
   "execution_count": 79,
   "metadata": {
    "collapsed": false
   },
   "outputs": [
    {
     "data": {
      "text/plain": [
       "3508"
      ]
     },
     "execution_count": 79,
     "metadata": {},
     "output_type": "execute_result"
    }
   ],
   "source": [
    "c = filter(lambda x: x != 'district_name', icpsr.columns)\n",
    "icpsr = icpsr[c]"
   ]
  },
  {
   "cell_type": "code",
   "execution_count": null,
   "metadata": {
    "collapsed": false
   },
   "outputs": [],
   "source": [
    "icpsr.simple_party.replace([200, 100, 400, 600], ['repub', 'dem', 'indep', 'write-in'], True)"
   ]
  },
  {
   "cell_type": "code",
   "execution_count": 123,
   "metadata": {
    "collapsed": false
   },
   "outputs": [],
   "source": [
    "icpsr.to_csv('icpsr_clean.csv')"
   ]
  },
  {
   "cell_type": "code",
   "execution_count": 151,
   "metadata": {
    "collapsed": true
   },
   "outputs": [],
   "source": [
    "def matchDistrictsCounties(url):\n",
    "    r = requests.get(url)\n",
    "    s = BeautifulSoup(r.content)\n",
    "    districts = map(lambda x: x.text, s.findAll('p', {'class':'pagehead5'}))\n",
    "    dist = map(lambda x: {'district': x[0], 'counties': x[1]}, \n",
    "               zip(districts, map(lambda x: filter(lambda g: g != 'Total',\n",
    "                                                   map(lambda y: y.text, x.findAll('strong')[:-3])),\n",
    "                                  s.findAll('table')[1:-1])))\n",
    "    return dist\n",
    "\n",
    "def getTurnoutDataFrame(url):\n",
    "    r = requests.get(url)\n",
    "    s = BeautifulSoup(r.content)\n",
    "    rows = s.findAll('table')[1].findAll('tr')[1:-1]\n",
    "    d = pd.DataFrame(map(lambda f: {'county':f[0], 'turnout':float(f[-1][:-1])}, \n",
    "                         map(lambda x: map(lambda g: g[0], map(lambda y: list(y.stripped_strings),\n",
    "                                                               x.findAll('td'))),\n",
    "                             rows)))\n",
    "    return d\n",
    "\n",
    "def findDistrictAverageTurnout(dist_dict, turnout_df):\n",
    "    d1 = map(lambda x: dict(x.items() + [('turnout_average', turnout_df[turnout_df['county'].isin(x['counties'])].turnout.mean())]), \n",
    "             dist_dict)\n",
    "    return d1\n",
    "\n",
    "def cleanElection(results_url, turnout_url):\n",
    "    dists = matchDistrictsCounties(results_url)\n",
    "    df = getTurnoutDataFrame(turnout_url)\n",
    "    res = findDistrictAverageTurnout(dists, df)\n",
    "    return res"
   ]
  },
  {
   "cell_type": "code",
   "execution_count": 168,
   "metadata": {
    "collapsed": false
   },
   "outputs": [],
   "source": [
    "primary_12_house = cleanElection('https://www.sos.state.co.us/pubs/elections/Results/Abstract/2012/primary/republican/stateReps.html',\n",
    "                                'https://www.sos.state.co.us/pubs/elections/Results/Abstract/2012/primary/turnout.html')\n",
    "primary_12_senate = cleanElection('https://www.sos.state.co.us/pubs/elections/Results/Abstract/2012/primary/republican/stateSenate.html',\n",
    "                                 'https://www.sos.state.co.us/pubs/elections/Results/Abstract/2012/primary/turnout.html')"
   ]
  },
  {
   "cell_type": "code",
   "execution_count": 172,
   "metadata": {
    "collapsed": false
   },
   "outputs": [],
   "source": [
    "json.dump({'primary_12_house': primary_12_house, 'primary_12_senate':primary_12_senate},open('primary_data.json', 'w'))"
   ]
  },
  {
   "cell_type": "code",
   "execution_count": 169,
   "metadata": {
    "collapsed": false
   },
   "outputs": [
    {
     "data": {
      "text/plain": [
       "[]"
      ]
     },
     "execution_count": 169,
     "metadata": {},
     "output_type": "execute_result"
    }
   ],
   "source": [
    "primary_14_house"
   ]
  },
  {
   "cell_type": "code",
   "execution_count": 170,
   "metadata": {
    "collapsed": false
   },
   "outputs": [
    {
     "data": {
      "text/plain": [
       "[]"
      ]
     },
     "execution_count": 170,
     "metadata": {},
     "output_type": "execute_result"
    }
   ],
   "source": [
    "matchDistrictsCounties('https://www.sos.state.co.us/pubs/elections/Results/Abstract/2014/primary/republican/stateSenate.html')"
   ]
  },
  {
   "cell_type": "code",
   "execution_count": null,
   "metadata": {
    "collapsed": true
   },
   "outputs": [],
   "source": []
  }
 ],
 "metadata": {
  "kernelspec": {
   "display_name": "Python 2",
   "language": "python",
   "name": "python2"
  },
  "language_info": {
   "codemirror_mode": {
    "name": "ipython",
    "version": 2
   },
   "file_extension": ".py",
   "mimetype": "text/x-python",
   "name": "python",
   "nbconvert_exporter": "python",
   "pygments_lexer": "ipython2",
   "version": "2.7.6"
  }
 },
 "nbformat": 4,
 "nbformat_minor": 0
}
