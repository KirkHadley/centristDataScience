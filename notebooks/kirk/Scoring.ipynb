{
 "cells": [
  {
   "cell_type": "markdown",
   "metadata": {},
   "source": [
    "# Ignore all this"
   ]
  },
  {
   "cell_type": "code",
   "execution_count": 117,
   "metadata": {
    "collapsed": false
   },
   "outputs": [
    {
     "name": "stdout",
     "output_type": "stream",
     "text": [
      "/home/kirk/centristDataScience/data/results\n"
     ]
    }
   ],
   "source": [
    "cd /home/kirk/centristDataScience/data/results"
   ]
  },
  {
   "cell_type": "code",
   "execution_count": 154,
   "metadata": {
    "collapsed": false
   },
   "outputs": [],
   "source": [
    "import pandas as pd\n",
    "import json\n",
    "\n",
    "colorado_state_results = pd.read_csv('icpsr_clean.csv')\n",
    "\n",
    "mov_under_five = 0\n",
    "indep_double_figures = 0\n",
    "indep_quarter = 0\n",
    "bottom_quarter_turnout = 0\n",
    "under_20_turnout = 0\n",
    "\n",
    "def bottom_quarter_by_year(df):\n",
    "    quarters = dict()\n",
    "    years = df.year.unique()\n",
    "    for i in years:\n",
    "        quarters[str(i)] = df[df['year'] == i].total_votes.quantile(.25)\n",
    "    return quarters\n",
    "\n",
    "def check_district_turnouts(df, quarters_dict):\n",
    "    total = 0\n",
    "    for i in df.year.unique():\n",
    "        t = df[df['year'] == i].total_votes.iloc[0]\n",
    "        if t < quarters_dict[str(i)]:\n",
    "            total += 1\n",
    "    return total\n",
    "\n",
    "def primaryTurnouts(p_dict, num, house_type):\n",
    "    if house_type == 'senate':\n",
    "        twelve = filter(lambda x: x['turnout_average'] <= 20.0,\n",
    "                        filter(lambda x: x['district'].split(' ')[-1] == str(num), p_dict['primary_12_senate']))\n",
    "        #four = filter(lambda x: x['turnout_average'] <= 10.0,\n",
    "        #              filter(lambda x: x['district'].split(' ')[-1] == str(num), p_dict['primary_14_senate']))\n",
    "    else:\n",
    "        twelve = filter(lambda x: x['turnout_average'] <= 20.0,\n",
    "                        filter(lambda x: x['district'].split(' ')[-1] == str(num), p_dict['primary_12_house']))\n",
    "        #four = filter(lambda x: x['turnout_average'] <= 10.0,\n",
    "        #              filter(lambda x: x['district'].split(' ')[-1] == str(num), p_dict['primary_14_house']))\n",
    "    return len(twelve) * under_20_turnout #+ len(four) * under_20_turnout\n",
    "    \n",
    "        \n",
    "        \n",
    "def score_district(num, df, quarter_dict, house_type, p_dict):\n",
    "    races = df[df['district_number'] == num]\n",
    "    indeps = races[races['simple_party'] == 'indep']\n",
    "    mov_below_five = races[races['percent_MoV'] <= 5.0]\n",
    "    indep_double = indeps[indeps['candidate_percent'] >= 10.0]\n",
    "    indep_25 = indeps[indeps['candidate_percent'] >= 25.0]\n",
    "    turnouts_bottom_25 = check_district_turnouts(races, quarter_dict)\n",
    "    under_10s = primaryTurnouts(p_dict, num, house_type)\n",
    "    total_points = (len(mov_below_five) * mov_under_five) + (len(indep_double) * indep_double_figures) +\\\n",
    "        (turnouts_bottom_25 * bottom_quarter_turnout) + (len(indep_25) * indep_quarter) + under_10s\n",
    "    return total_points\n",
    "\n",
    "\n",
    "def score_districts(df, house_type):\n",
    "    p_dict = json.load(open('primary_data.json', 'r'))\n",
    "    districts = df.district_number.unique()\n",
    "    quarters = bottom_quarter_by_year(df)\n",
    "    scores = map(lambda x: {'district': x, 'score': score_district(x, df, quarters, house_type, p_dict)}, districts)\n",
    "    return pd.DataFrame(scores).sort('score', ascending=False)\n",
    "\n",
    "senate_races = colorado_state_results[colorado_state_results['senate_or_house'] == 8]\n",
    "house_races = colorado_state_results[colorado_state_results['senate_or_house'] == 9]"
   ]
  },
  {
   "cell_type": "code",
   "execution_count": 155,
   "metadata": {
    "collapsed": false
   },
   "outputs": [
    {
     "data": {
      "text/plain": [
       "[u'primary_12_senate', u'primary_12_house']"
      ]
     },
     "execution_count": 155,
     "metadata": {},
     "output_type": "execute_result"
    }
   ],
   "source": [
    "p.keys()"
   ]
  },
  {
   "cell_type": "markdown",
   "metadata": {},
   "source": [
    "## Play with the inputs below to change ranking factor importance\n",
    "## Press the play button at the top of the screen when finished to calculate rankings\n",
    "* ###We call this \"running a cell\"\n",
    "\n",
    "### ProTip: you can also press Shift+Enter"
   ]
  },
  {
   "cell_type": "markdown",
   "metadata": {},
   "source": [
    "## Variable name meanings:\n",
    "\n",
    "1. mov_under_five: percent margin of victory less than 5 points\n",
    "2. indep_double_figures: independent candidate received double digit percentage of total vote\n",
    "3. indep_quarter: independent candidate received more than 25% of total votes\n",
    "4. bottom_quarter_turnout: total votes cast in bottom 25% percentile for colorado\n",
    "5. under_20_turnout: percent registered voter turnout in 2012, 2014 primaries less then 20"
   ]
  },
  {
   "cell_type": "code",
   "execution_count": 156,
   "metadata": {
    "collapsed": false,
    "scrolled": false
   },
   "outputs": [],
   "source": [
    "mov_under_five = 2\n",
    "indep_double_figures = 4\n",
    "indep_quarter = 2\n",
    "bottom_quarter_turnout = 2\n",
    "under_20_turnout = 2\n",
    "\n",
    "\n",
    "house_scores = score_districts(house_races, 'house')\n",
    "senate_scores = score_districts(senate_races, 'senate')"
   ]
  },
  {
   "cell_type": "markdown",
   "metadata": {},
   "source": [
    "## To see house district rankings, run the cell below"
   ]
  },
  {
   "cell_type": "code",
   "execution_count": 157,
   "metadata": {
    "collapsed": false
   },
   "outputs": [
    {
     "name": "stdout",
     "output_type": "stream",
     "text": [
      "    district  score\n",
      "16        17     72\n",
      "49        50     66\n",
      "35        36     58\n",
      "1          2     56\n",
      "64        65     54\n",
      "29        30     54\n",
      "7          8     50\n",
      "26        27     48\n",
      "33        34     48\n",
      "41        42     48\n",
      "4          5     46\n",
      "31        32     46\n",
      "30        31     44\n",
      "6          7     44\n",
      "3          4     42\n",
      "34        35     42\n",
      "10        11     40\n",
      "50        51     38\n",
      "18        19     38\n",
      "42        43     38\n",
      "46        47     38\n",
      "8          9     38\n",
      "2          3     36\n",
      "21        22     36\n",
      "20        21     34\n",
      "28        29     32\n",
      "12        13     30\n",
      "51        52     30\n",
      "43        44     30\n",
      "45        46     30\n",
      "..       ...    ...\n",
      "57        58     26\n",
      "22        23     26\n",
      "62        63     24\n",
      "11        12     24\n",
      "14        15     22\n",
      "44        45     22\n",
      "37        38     20\n",
      "59        60     20\n",
      "52        53     20\n",
      "54        55     18\n",
      "55        56     18\n",
      "32        33     18\n",
      "15        16     18\n",
      "17        18     18\n",
      "56        57     16\n",
      "36        37     16\n",
      "19        20     16\n",
      "48        49     14\n",
      "25        26     14\n",
      "40        41     14\n",
      "53        54     12\n",
      "47        48     12\n",
      "58        59     12\n",
      "24        25     12\n",
      "63        64     12\n",
      "13        14     10\n",
      "27        28     10\n",
      "61        62      8\n",
      "39        40      6\n",
      "38        39      6\n",
      "\n",
      "[65 rows x 2 columns]\n"
     ]
    }
   ],
   "source": [
    "print house_scores"
   ]
  },
  {
   "cell_type": "markdown",
   "metadata": {},
   "source": [
    "## To see senate rankings, run the next one"
   ]
  },
  {
   "cell_type": "code",
   "execution_count": 158,
   "metadata": {
    "collapsed": false
   },
   "outputs": [
    {
     "name": "stdout",
     "output_type": "stream",
     "text": [
      "    district  score\n",
      "22        11     34\n",
      "6         12     32\n",
      "31        31     28\n",
      "26        26     26\n",
      "12        19     24\n",
      "1          5     22\n",
      "34        34     22\n",
      "9         16     20\n",
      "25        25     20\n",
      "32        32     20\n",
      "7         13     18\n",
      "29        29     18\n",
      "20         3     18\n",
      "19         2     18\n",
      "16        24     18\n",
      "24        20     16\n",
      "33        33     16\n",
      "0          4     14\n",
      "15        23     12\n",
      "4          9     12\n",
      "28        28     12\n",
      "5         10     12\n",
      "30        30     10\n",
      "2          6     10\n",
      "21         8     10\n",
      "23        15     10\n",
      "11        18     10\n",
      "10        17     10\n",
      "8         14      8\n",
      "13        21      8\n",
      "18         1      6\n",
      "27        27      6\n",
      "3          7      4\n",
      "14        22      4\n",
      "17        35      2\n"
     ]
    }
   ],
   "source": [
    "print senate_scores"
   ]
  },
  {
   "cell_type": "code",
   "execution_count": null,
   "metadata": {
    "collapsed": true
   },
   "outputs": [],
   "source": []
  }
 ],
 "metadata": {
  "kernelspec": {
   "display_name": "Python 2",
   "language": "python",
   "name": "python2"
  },
  "language_info": {
   "codemirror_mode": {
    "name": "ipython",
    "version": 2
   },
   "file_extension": ".py",
   "mimetype": "text/x-python",
   "name": "python",
   "nbconvert_exporter": "python",
   "pygments_lexer": "ipython2",
   "version": "2.7.6"
  }
 },
 "nbformat": 4,
 "nbformat_minor": 0
}
